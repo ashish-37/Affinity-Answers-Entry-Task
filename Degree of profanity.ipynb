{
 "cells": [
  {
   "cell_type": "markdown",
   "metadata": {},
   "source": [
    "Assuming tweets is a dataframe containing all tweets data and in tweets dataframe there is a column tweet which contains the tweet written by user.\n",
    "Assuming racial_slur is the list of words which are all racial slurs.  \n",
    "Assuming that racial slur is one word only.<br>\n",
    "We output the a dataframe containing a line and the degree of profanity for that line."
   ]
  },
  {
   "cell_type": "code",
   "execution_count": null,
   "metadata": {},
   "outputs": [],
   "source": [
    "import re #importing regular expression\n",
    "from nltk.corpus import stopwords #from nltk importing stopwords\n",
    "from nltk.stem import WordNetLemmatizer #from nltk importing lemmatiser to lemmatize words\n",
    "import pandas as pd \n",
    "lemmatizer = WordNetLemmatizer()"
   ]
  },
  {
   "cell_type": "code",
   "execution_count": null,
   "metadata": {},
   "outputs": [],
   "source": [
    "racial_slurs=[lemmatizer.lemmatize(word) for word in racial_slurs if not word in stopwords.words('english')] #lemmatising racial slurs\n",
    "res=[]\n",
    "for t in tweets['tweet']:\n",
    "    lines=tweet.split('. ') # We separate the lines of the tweet\n",
    "    for line in lines:\n",
    "        l= re.sub('[^a-zA-Z]', ' ', line) # for each line we take only the alphabets neglecting the numbers and special symbols\n",
    "        l=l.lower() # Converting sentnce to lowercase\n",
    "        words=l.split(' ') # Separating words from the processed sentence\n",
    "        profanity=0\n",
    "        slurs=0\n",
    "        lemmatized_sentence = [lemmatizer.lemmatize(word) for word in words if not word in stopwords.words('english')] #removing stopwords and lemmatizing words\n",
    "        for word in lemmatized_sentence:\n",
    "            if word in racial_slurs: #checking if word is racial slur\n",
    "                slurs+=1\n",
    "        profanity=slurs/len(words)\n",
    "        res.append([line,profanity])"
   ]
  },
  {
   "cell_type": "code",
   "execution_count": null,
   "metadata": {},
   "outputs": [],
   "source": [
    "df=pd.DataFrame(res, columns = ['Sentence', 'Profanity'])"
   ]
  }
 ],
 "metadata": {
  "kernelspec": {
   "display_name": "Python 3",
   "language": "python",
   "name": "python3"
  },
  "language_info": {
   "codemirror_mode": {
    "name": "ipython",
    "version": 3
   },
   "file_extension": ".py",
   "mimetype": "text/x-python",
   "name": "python",
   "nbconvert_exporter": "python",
   "pygments_lexer": "ipython3",
   "version": "3.8.5"
  }
 },
 "nbformat": 4,
 "nbformat_minor": 4
}
